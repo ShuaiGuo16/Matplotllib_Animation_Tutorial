{
 "cells": [
  {
   "cell_type": "markdown",
   "metadata": {},
   "source": [
    "# Introduction\n",
    "\n",
    "In this notebook, we will walk through an animation project by using Matplotlib and Celluloid, which is a Python package that simplifies the animation creation in Matplotlib. The target animation we will create displays various projectile motion trajectories and updates the associated histogram of the projectile shoting range. \n",
    "\n",
    "This animation is intended to show the audiences the *uncertainty* of the projectile shoting range under various combinations of initial projectile velocity and shooting angle. This type of visualization is also known as the **hypohetical outcome plots**, which is a powerful technique that is especially good at delivering intuitive and effective *uncertainty visualization*. To learn more about hypohetical outcome plots, take a look at this article:\n",
    "\n",
    "[Uncertainty Visualization Made Easy With Hypothetical Outcome Plots](https://towardsdatascience.com/uncertainty-visualization-made-easy-with-hypothetical-outcome-plots-89558574d069)"
   ]
  },
  {
   "cell_type": "markdown",
   "metadata": {},
   "source": [
    "# Packages\n",
    "\n",
    "To create the desired animation, we will use `Celluloid` module. Using `Celluloid` involves the following steps:\n",
    "\n",
    "1. Create a blank plot object;\n",
    "2. Create a “camera” that gets attached to the plot;\n",
    "3. Create each frame of the animation;\n",
    "4. Take a snapshot with the camera at each frame;\n",
    "5. Transform all the snapshots into an animation.\n",
    "\n",
    "To install `Celluloid`, use\n",
    "\n",
    "```pip install celluloid```\n",
    "\n",
    "In addition, to display the created animation within the Jupyter notebook, we need to import `HTML` from `IPython.display`."
   ]
  },
  {
   "cell_type": "code",
   "execution_count": 1,
   "metadata": {},
   "outputs": [],
   "source": [
    "# import all packages and set plots to be embedded inline\n",
    "import numpy as np\n",
    "import matplotlib.pyplot as plt\n",
    "from matplotlib import animation\n",
    "from IPython.display import HTML\n",
    "from celluloid import Camera\n",
    "\n",
    "%matplotlib inline\n",
    "np.set_printoptions(precision=2,suppress=True)\n",
    "np.random.seed(42)"
   ]
  },
  {
   "cell_type": "markdown",
   "metadata": {},
   "source": [
    "# Data\n",
    "\n",
    "For creating the animation, we will simply load the pre-calculated projectile trajectory data: two Numpy 2D arrays that record the $x$ coordinates and $y$ coordinates of the projectile trajectories, respectively. "
   ]
  },
  {
   "cell_type": "code",
   "execution_count": 16,
   "metadata": {},
   "outputs": [
    {
     "name": "stdout",
     "output_type": "stream",
     "text": [
      "(1000, 20)\n",
      "(1000, 20)\n"
     ]
    }
   ],
   "source": [
    "# Load trajectory data\n",
    "coordinate_X = np.genfromtxt('./Dataset/traj_X.csv', delimiter=',')\n",
    "coordinate_Y = np.genfromtxt('./Dataset/traj_Y.csv', delimiter=',')\n",
    "print(coordinate_X.shape)\n",
    "print(coordinate_Y.shape)"
   ]
  },
  {
   "cell_type": "markdown",
   "metadata": {},
   "source": [
    "Both numpy arrays have 1000 rows, corresponding to 1000 different trajectories. Each trajectory is discretized with 20 points, thus the numpy arrays have 20 columns. One sample trajectory is shown below."
   ]
  },
  {
   "cell_type": "code",
   "execution_count": 21,
   "metadata": {
    "scrolled": true
   },
   "outputs": [
    {
     "data": {
      "image/png": "[encoded data removed]",
      "text/plain": [
       "<Figure size 576x216 with 1 Axes>"
      ]
     },
     "metadata": {
      "needs_background": "light"
     },
     "output_type": "display_data"
    }
   ],
   "source": [
    "# Display a single trajectory\n",
    "fig, ax = plt.subplots(figsize=(8,3))\n",
    "\n",
    "pick_traj = 5\n",
    "ax.plot(coordinate_X[pick_traj,:],coordinate_Y[pick_traj,:],\n",
    "       color='b', lw=2, linestyle='--')\n",
    "ax.set(xlim=(-100, 3100), ylim=(-10, 810))\n",
    "ax.set_xlabel('Range/m', fontsize=15)\n",
    "ax.set_ylabel('Height/m', fontsize=15);"
   ]
  },
  {
   "cell_type": "markdown",
   "metadata": {},
   "source": [
    "# Animate a single trajectory\n",
    "\n",
    "In the first step, we will create an animation that simulates a single trajectory. First, we will set up the graph using `Matplotlib` and initiate a `Camera` instance using the created graph. Later on, we will create 20 frames, where each frame depicts the current location of the projectile and its trajectory. We will use `Camera.snap()` to take a snapshot of the individual frames. "
   ]
  },
  {
   "cell_type": "code",
   "execution_count": 26,
   "metadata": {},
   "outputs": [],
   "source": [
    "# Animate a single trajectory\n",
    "pick_traj = 5      # Select a trajectory to simulate\n",
    "\n",
    "# Set up the graph using Matplotlib\n",
    "fig, ax = plt.subplots(figsize=(8,3))\n",
    "ax.set(xlim=(-100, 3100), ylim=(-10, 810))\n",
    "ax.set_xlabel('Range/m', fontsize=15)\n",
    "ax.set_ylabel('Height/m', fontsize=15)\n",
    "\n",
    "# Initiate camera\n",
    "camera = Camera(fig)\n",
    "\n",
    "# Create individual frames\n",
    "for j in range(1,coordinate_X.shape[1]+1):\n",
    "    \n",
    "    # Projectile's trajectory\n",
    "    x = traj_X[pick_traj][0:j]\n",
    "    y = traj_Y[pick_traj][0:j]\n",
    "    \n",
    "    # Show Projectile's location\n",
    "    ax.plot(x[-1], y[-1], marker='o', markersize=12, \n",
    "            markeredgecolor='r', markerfacecolor='r')\n",
    "    \n",
    "    # Show Projectile's trajectory\n",
    "    ax.plot(x, y, color='b', lw=2, linestyle='--')\n",
    "    \n",
    "    # Capture frame\n",
    "    camera.snap()\n",
    "\n",
    "# Stop the static plot from displaying\n",
    "plt.close()"
   ]
  },
  {
   "cell_type": "markdown",
   "metadata": {},
   "source": [
    "We call `Camera.animate()` to roll the captured snapshots up into an animation. Under the hood, `Camera.animate()` uses [`animation.ArtistAnimation()`](https://matplotlib.org/3.1.1/api/_as_gen/matplotlib.animation.ArtistAnimation.html) from `Matplotlib`. In the following, we feed three parameters to `Camera.animate()`: \n",
    "\n",
    "- interval: number, controls the delay between frames in milliseconds.\n",
    "- repeat: bool, controls whether the animation should repeat when the sequence of frames is completed.\n",
    "- repeat_delay: number, if the animation in repeated, adds a delay in milliseconds before repeating the animation."
   ]
  },
  {
   "cell_type": "code",
   "execution_count": 27,
   "metadata": {},
   "outputs": [
    {
     "data": {
      "text/html": [
       "<video width=\"576\" height=\"216\" controls autoplay>\n",
       "  <source type=\"video/mp4\" src=\"data:video/mp4;base64,AAAAHGZ0eXBNNFYgAAACAGlzb21pc28yYXZjMQAAAAhmcmVlAAAgG21kYXQAAAKgBgX//5zcRem9\n",
       "5tlIt5Ys2CDZI+7veDI2NCAtIGNvcmUgMTYwIC0gSC4yNjQvTVBFRy00IEFWQyBjb2RlYyAtIENv\n",
       "cHlsZWZ0IDIwMDMtMjAyMCAtIGh0dHA6Ly93d3cudmlkZW9sYW4ub3JnL3gyNjQuaHRtbCAtIG9w\n",
       "dGlvbnM6IGNhYmFjPTEgcmVmPTMgZGVibG9jaz0xOjA6MCBhbmFseXNlPTB4MzoweDExMyBtZT1o\n",
       "ZXggc3VibWU9NyBwc3k9MSBwc3lfcmQ9MS4wMDowLjAwIG1peGVkX3JlZj0xIG1lX3JhbmdlPTE2\n",
       "IGNocm9tYV9tZT0xIHRyZWxsaXM9MSA4eDhkY3Q9MSBjcW09MCBkZWFkem9uZT0yMSwxMSBmYXN0\n",
       "X3Bza2lwPTEgY2hyb21hX3FwX29mZnNldD0tMiB0aHJlYWRzPTYgbG9va2FoZWFkX3RocmVhZHM9\n",
       "MSBzbGljZWRfdGhyZWFkcz0wIG5yPTAgZGVjaW1hdGU9MSBpbnRlcmxhY2VkPTAgYmx1cmF5X2Nv\n",
       "bXBhdD0wIGNvbnN0cmFpbmVkX2ludHJhPTAgYmZyYW1lcz0zIGJfcHlyYW1pZD0yIGJfYWRhcHQ9\n",
       "MSBiX2JpYXM9MCBkaXJlY3Q9MSB3ZWlnaHRiPTEgb3Blbl9nb3A9MCB3ZWlnaHRwPTIga2V5aW50\n",
       "PTI1MCBrZXlpbnRfbWluPTI1IHNjZW5lY3V0PTQwIGludHJhX3JlZnJlc2g9MCByY19sb29rYWhl\n",
       "YWQ9NDAgcmM9Y3JmIG1idHJlZT0xIGNyZj0yMy4wIHFjb21wPTAuNjAgcXBtaW49MCBxcG1heD02\n",
       "OSBxcHN0ZXA9NCBpcF9yYXRpbz0xLjQwIGFxPTE6MS4wMACAAAAKl2WIhAA3//728P4FNjuY0JcR\n",
       "zeidMx+/Fbi6NDe9zgAAAwAAAwAAN/o0LwTd/5gDildZZhd3KckE/9REeqVMBu6ZgpSW0n6F1cmR\n",
       "iJngcKHZD/90sDHD0PcPwpI1IWpwuZwmlVMyJEu0WlW2hBj+7vWNxU0H/BZ7Whn5dN3pWSe0HySv\n",
       "7r/8MuQp6gSS8Y+nI5TY3mhkDmxdGzZQJESLapZ1amHPp8645PdcXxl66JvFaNp5wIEmsVnB6AAA\n",
       "AwDAl8/E+96z3PK7Lquuxt/vQ1TLCmIp0Q8NMeLoWkAAAdPawEBenqAEoTu7dDprM/PKz1g+r2ZC\n",
       "vmcOvFIdEjjclkjabs/W5J8/SZNN+2j0H65X+MibYNhi+56KAAQ3ErC7iOHf/DLK1LzS8vwpzxFZ\n",
       "4Llg+0BK5cBDyYcomWAqTkONBNuUGSZNrVYjf+Yz1h06VtekjUzWY5ddAwwxDRz4Geg2UqTjz0d+\n",
       "cNbCBzULZN4zLPjSx1MxJZrQ+sRT2/QNU/S60LvrQbRxD6sNJwLeLROk4gOBjzqIQ2zSkgCAs2RJ\n",
       "Yd5XAwtv5Ev/YpR+v9WFXHpzOynUjp5CWZyOLfcNX2XzVifWBvhosJPsbnqUdrbp1qyauDKJoh5b\n",
       "pyVJOadiIHnXtkA6KGTDKhmafz9kcptFrpJprjS4ShLzoT0WxZ/912d6SuHY3OKEKPT1MgPyP6P6\n",
       "AUUO8m8+xKXND6BiYVcjI4M6AsoCyyfEye7VCe+OaQYK3Wbv4qwpQu8+X/e4KpR09IoMg04m5w/M\n",
       "4aLfB12qZ/JVi3T/IbV/yCzBErPm4mggFMvqStx+8CE1DyIdewfprx/0MtAa7eH+OJg/3ISYS8G4\n",
       "BAYFg4LowQLkgiGgWdqe2jCdGxwUI2Unaul/J+K3Y/AeOfVZNgdgu0M35xg+Zepfrf+W1ZbH5J+L\n",
       "d3i5hVDVqd/Vu/8o/16TEQuIeo6TaTMMBdxgYAcdCoGs4akR90Kv/kQ3JixSodWqYeO7NHyoJXs/\n",
       "aZFSYfMrQLwZp2uePQRqxUVLIjw0ZEsYslZTaawmVHrCPK7d8f32xmOGNI4EW126+UmU5AcEijJZ\n",
       "NYw+VfObcLv3kOKylANz1yUk5Mcy4JZnYDuGhNedUdjpHQV3QIDutwBSwEn16lT/hMEykiSHBqlV\n",
       "tfzmpaJwqr1UDrrwNa2bS7Tx3RkFthRWplmvyroQnJYHDvL4Hlb1ov6GNC+OrmVD5FbvgMUNw/3t\n",
       "KSqUY3+FmV6MzzqC9XKbmzCIn2AreXfjASYDUVDlVUoJL6BcMEAg8lxALqj1RgJThXKjdAGO90W4\n",
       "pIH1cbDMUoFhW3mPVGsjT8nKEpl1M+tTiGuxFrbYyQwWeUhI6I4bNOEFdxeNc53VsaOWfR2TMnnK\n",
       "xltHMZJoFOaJWHSYeldDWd9acfC2bskwIcR25magHIoCBV52lzaSynkehgMvu8xHys+qii8qJlbg\n",
       "eiAVd4uEUy8FT7eORgykFr/Wf467nrkOemrsETalpOoCb51/9vss1m7WtHUVzBIfdNk5eDPyunMn\n",
       "7P9JpJhleDK1UfBtD9BTnNYgm1kaTXvR+11PTrQPsa3V5L5CIWByJEoYAJzJqy1b3uBmeFefzTzC\n",
       "5IKgzrHP65Rq7sFdFENIThMie4FumCQhgvU5QTM+nOTkApwjmkHisZemfPPNVyn1O0x7uXPnUTA8\n",
       "D5sOXfqnL28cOtUQ4Fw6oOhuUQCUPV34o01tRfcjWLOM/xaHKLVDREKoainsk4F+PEPgXyOda4nk\n",
       "pWyzFiPr/XyJk+yqtobCW/mGBfhNCeFB8DQAcWyN0/HP8WmuvbbDsSgsGr68ka/Jt6Sts9UYT/nC\n",
       "otUnZY3DHvHDGDKdh59uRfdwyxgPNwKfjJ4iZz46XQVUm2lvZJ9xLBAqtpeEn/d5ih+3BAoN2lB/\n",
       "FaDzGDcgQaaaBkN15s/V9ElVMo6R2H8+9GKQVw3+wnoRyKBYxmxYqeU33Lz7K/v4Eqiew1ZyatrE\n",
       "c7DgpB3jDhyMYG3NFRJi2ki6G5crhPkyUyPSL4FwZuuOGEuo81JPUpOt1aYGBa34rXo2Mfc2zgdJ\n",
       "DWRZvvMWW4uxmTIqL+99LO50UKTl+E4QxhYpL++4d4heM8ATFwRJZvDgEkFiMlTTxpbF1cA8bjjH\n",
       "GXfrjg78YrR6FEm7QD8fVWA63LLN+ainIaqLDiYkfjvgqugSWq56vPcB73qQZ43n45NmEkeaKE/q\n",
       "Perwxk2AqUALQw4WBhv+UjnNkdE4OH/0REbyZpFL7G88OP7UyMYybHJg9tQKKxvsxY15TE8qM5aj\n",
       "RKg7vcIjCJqxarWC2bFdBgn6lWt8B1OYW5Q1o2kAQqeAAMsFPkOCz4eQMIwA+zwIB2/XYDtcM5Rt\n",
       "TacY6o7O5vpkYctkf4MX3Mb0ELososKMlSBAMIrJCqqBUUHgdH2aApKcxNYhawIu687GwqhIw7XX\n",
       "+590Zf27lrF5JDxRRAnYINPptwimD5wiqDgnKe6buCPAL7lZ+MdQpPjEPbKcdtByYmNcbTKmAHph\n",
       "BkgheXAH0XZXpCXya7F1q+L3Xt6sh8prO8T6dIiN1VQPNK7GLnZmAkSVMTqEQMshgbpD80O+UvCI\n",
       "dl3mSuThQIKSkBTHLabfWhi/IQQf7ZVFegIB3rK8PJ1j8rlfZ3P/Uy1D3HVLxUkwYFztMWV+6Vbo\n",
       "taBzXFAiURZJ4OsJfK3IDghR+dAfjGScf23KJbpntUUTDygt7y1T0i/dLFynzuAsLg3S6Sh4hbxp\n",
       "ARY1CDKbfQJwCjSl0P9A/wBjgl+Vq40/CwMjyTuCMH+eq7y7M8kRuXF5sGZpW4JyR0ChKx2TDqrP\n",
       "Jrw3QD4UvfJ+zWkb9948DcVCTII/pP5XXgeOVCqp6ACMnvwJ9knpiUTZeOKL1Yun2843mnr+XT5X\n",
       "ij4A7hIYRg5LMHFFZY2NPXaHdrA0Q4Yo5e0t/QEPi/8aw2kHXot7/1O8ho3CWNuJ8KKX/3oMEsPE\n",
       "MrpRNQ5a7h05+36iEmp9innr0lNF/8jQ/nS5RwGA/8FdF6Ax0RrH4aeM6GKooK0a2jKyBOxNyWyA\n",
       "Xuf3FA6nO4o/F07WusBLV3JizrZGzvLMcQOpAUoKqm9dY2Wadm84P+KiTDIX/EC1R20Wa6BikwbB\n",
       "cRgp2qeW9LKuTzjuU4MazSGe4ZZyaxfCCG26sA5t3Hxh03TvY4w6b29p0z1qFtEo0Ob1rIQn1TR1\n",
       "0DELyHz/Tpi8QN+tba9Ceo74UG1RAqBxolS6MDqWvcSL0QVbTcmqV9b9bTfdU0r2ikvL1H97bY20\n",
       "ppBw0nNy7vmWPKHQALqEOtxi1Q3XPHUV2mH6AABdZUeCOUjMIlxOalTE2wGtW7cc0tSORjjwFeGy\n",
       "UD2Qc5PsSd9PO4jWQ4iC8aUGpUHp5fCm1SFEYXN4vGRsj/D5cUXixgP9V4CyB6IWx6/LoahI7JjJ\n",
       "F2LarbPVLDMrNJAZ2qk23wvRyypfSQIGKPR2S35LLd8BRjpMfrlHQRyCxHf6wHM2g1PqUFtN2RFH\n",
       "/G0gOrYdpPOW3Tdzt+v3tRQorpIc8niPJiT7WHbQ6Oeg6d8D1Kk0ZrLTs/c4FHoZBnmOubNUSfvz\n",
       "v3HHkr4Rs2gX0GgAAKOBAAADDEGaI2xDP/6eEAPzBv6AO8CY1fVUyGtbjNzTVu7K8neYfQvrGMSP\n",
       "tqmWRpQcQAG2g/mcTtrvMZn389C2vSquB2/ESJe3h7i4We99E2WQOeRneF/Q1/PTFv213Hb0BPIt\n",
       "OZ+my3uFRey5vSncFXvA66U6UxLT9ElJ/xTMD/+fZIlh7U7vxKdHo/aXH2gSxQ3iRpEzKT/tHWMs\n",
       "hlUWdXbGG2/V+JRyQin8pZS/LW87QSbBjKfGKVGgdT2JpQGmMeWXFfemWinWOMfITJXk1jMMvbMH\n",
       "ifEWnP82LGQZer5Gtik/EzytIuAcwykeytD6L9bie8zeb1fkmShikEHbMUS5qFodNzxbHajyTL47\n",
       "gZkCIA26TJLzcuHFAY6Fx2qTkA6P3c+gm23OqUgjie3jdft/TMmmh6xqdEBh5yLmknMrx9qMX0gK\n",
       "MU215ZOjOvOf/jDGMjjCFkkyAbGuT/hZGF2DWJ7x+njh2WKXEw3ZpY5m/cgdz4MQ9rm9j5/IXOWI\n",
       "nrVjPWMSSWrYOFUCqeBolw9sXnlVodDWjh9al72wzGBdJ+lx7AjU1pY9fJOzsrI1rjZcoGkVTDb9\n",
       "NiNZ39B3UrkiByVOlqoCBWpjPpr24TQ86UB5cE4y4G28DnQo8uzq+AM6BdHSV6gA7RBPvB8PrveU\n",
       "cgY+JrtGR/QxNUg6YfBoYddBrKAgE3hOnfDyKr3OSdtvbQX0iZsIQ0Lp/pTiNt5E0cD4tP/zOUcc\n",
       "Cuc6UZRrooMLWjSiVnSWDlr+NJiPsZaYpTA07SnhxHQAFtSUOGPMrqsDP4GoqdEVgB0bSM5TJdwl\n",
       "BKBAFhpKxZjJ06eUCLJrpYipDkbwp9+xoG8MBknhLRFFyyvOvWyQqkSTe/JWnwM73VYW8FYyvQWl\n",
       "LiEg4hZwpW92T6fUoxl1USodpY3vHTvSgBPWX/AyxTYPssdbfbk5pcdOHhEIdyKDPkKDMPJjPoJL\n",
       "Tmou8ujh+1cnNX4wnldj/zcN20g1izb6zJrz0nM/+XuS5qVd1lubEWTNiFkmhIZtVWMWTHYyxyGD\n",
       "4AAAAMRBnkF4hX8A14/3WxOivXHgAAADAFEhapljRUrmerqp8NBsv8HK032po4fRDRhcRNGqPKAB\n",
       "D8f+uOrBJ8Hu7Sz0hnK5iEHwbtCmyBfUc8JxoI12bsnJh2rFmg6JxPBBFxNZGGJcUew5onVN9zbx\n",
       "4EraXczBK4RbeDNpXfzrSi7AyGkZLTduqO0F3GBf1mZoG1/8g/27jtpJbS1YIX0Oh26MYLYw3pmt\n",
       "n7p08vai8Bn3H/cmoB1aG5Wk348Q3epr1dOwAKWBAAAAmQGeYmpCvwAhuvy152i1pc5DNC4/eg1Q\n",
       "Tpn/jpHABfM9blvoIDdKu4zFXT9BxdM4aa+iDprcEZIXeEdY341VLvGXvN6tsdT+03eyM9CHMgmv\n",
       "lDB2rUV/fZB//Iw3wQMnGeI7JIjIZRkR98dNDPwAuHw3MIGiwEZhciTZ8nT4857HXynWwJtL51fV\n",
       "Bfv6MGSQzCfj6szh3r+ErAAAAOVBmmRJqEFomUwIb//+p4QAKj7wn/HhNxqI9J2e6pguhpcD4/P5\n",
       "qwRhP4GTrXB2hcp7vTD5NG23XOcJEwSePG5iFJMQta/s/8L7e0sHMQfFQ5gjj09IHYDYgmnkPbQV\n",
       "B8O3con74TmD/OJmjY5tFg8fjveYUTyOjCe7toeRJJccVJK+DhyANbBjYiUrJMIueq4mPBPerVps\n",
       "wR1TzOWN+dS1iTiF4D57A3eFzuyIndxQu3swoG0SRDFSG29QA2AT26bVglhj6wirL/XVs9/bOGFR\n",
       "IsdQYZMY219H9VmR9g4TluuP+ybjAAABoUGahknhClJlMFESw3/+p4QAI9yDveD/0j4AMtq2hVj5\n",
       "OOuyOWBo2NQYrVEsk31FiTEIbZwjTnb9FlKtIYqMqeWqWGKAa9Y3RxHTZNtsabp7GAFkqAwLnePY\n",
       "9TyStSFtiQIlSResrDN3jgGPfsJjXap65UIcSp5tc9IBwuFmbfMTX3c47S8MwuUoYQtFcqPquNml\n",
       "pGcCueLmAjWcqJHPct6FE9eVzq98fLUXHUEZVKjv4zXPMoD5T1MjNyOPuQ4HNqqwbgduYZzd2nU/\n",
       "40ZHiomjP3rHp/ZsKio8XAyCK1ng7pPouk9iMazH207cNirAPL5G693g53qa9OT2PjA2ex9ifYm3\n",
       "OYStzY3f5Th1FmcNJ2X5EYcgOaFLqhndMXmkQ/RX/GvJ4dH0aldgtOCWvb8NScac3cLZzAByMKnX\n",
       "ErOxHAsLIzu0k0CUkx9Zdp9t6pXLW9Lpk/2OcC0fMARUAvegZ34JDscUR5nADe5mG/gOjU8nuFSc\n",
       "S3XS0wnnIB87NKH114gKexVReA2ofi0SLRwl8IRDwqwuY7aKKuu06KV3gQAAADIBnqVqQr8AHQZJ\n",
       "WD46fCkpG0YgAdj6KBLm6SsunkXYv9zj0N5ZxYSUe/1NGe8U0SwugQAAANNBmqdJ4Q6JlMCG//6n\n",
       "hABY9/fBZv7gA5s9HOW89xyekgeSdMfswRxusU05rlc5mJFhzO8Eg0MqMgjRhRZsd+Bu/6bCfgbV\n",
       "tEaH+fNScHhJqHyiEGRt6Xf268bFaoEw9Yj7K6FIE98S8n/f4KAwAxxy26EV6Iw2Lfp1jrLryZO/\n",
       "d4pzAO//LW4E39Z6uEjHd3RNxz9oStrDTzCcUSmNmOclfCgBOtA8QkD1avcF/w7tBkAiiEvVXxT8\n",
       "yPJ8xcg7+MFiOxZjOifuySRDp6wrlI3+N877AAABtEGayknhDyZTAhv//qeEAFiBQaP8IFSWYA5l\n",
       "yEo1aS9DT2sd4MJ98o21ZbCE5P1UnwilHRi81VWoB9miKLfTJhZfLzccT/QmQDWRPbcfNxFiX1FY\n",
       "ybwkAxJE8gU8Ydj9vynFSFX5rBtgpp+vrT0hXwnm0TWyPmzzrz+A73YAO3/tuLkCqVSlOHjbFktR\n",
       "7y81KgJuwTw5ueIabCRluhBJ93wtaGx2uWq+msjiTLjHD1nQvLtM7vTwDQBuJixp2B14XW8Hs4C7\n",
       "D/9e0qzDXQc7TcpEDiFIMmMwVqX5z+je7SjEYZJJSN0ErXW37+MPA4LE+QWxwJIpv/wZlbEJ8o9w\n",
       "vHv8fGA/t8hY2lGGAH9cBgEemoyUQLCo5uqyVXkz/HTaVWE6PKMJ7VMXbdH1Ts4ZHjy3KNLhQSu1\n",
       "MEDhCdUatQIdkHACRTsxpgMqY3Kz9zoEvK8jWK/WSDLCs2KR+L2Zgj/Tq8od4hGMZmxhTfgz0uyX\n",
       "0cCrguEvXi+dAQJaja6IDqBoPSk87seqAjfBGKrGFhu5iLFUzfkEJCMuu75xqa3Ri8VHo5xJ9OnP\n",
       "g7LMh6RSNKMJqIIAAABJQZ7oRRE8K/8AR4MrELwRZSwAGzzkgTMXsrjj125UnkTbDbJfwjDQFuOD\n",
       "mUnZUlLgGYx+u2JGXwfZMHPXSbDvXOi6OdD1895yiAAAADQBnwlqQr8Ao9gAKsr77454/eHgAdjE\n",
       "W6HddFMPjEaLAm5SB9swZ9NwbE6VpZ4jtkmx6hnhAAABu0GbDkmoQWiZTAhn//6eEAE+ZCPWvQA4\n",
       "im313hxEmzS0hlhwUf6SrIv5qSERVHXqSF4e0MkFilWpF1gAjT4Geiro/Z9eaoV3hHMZrMo+yDsM\n",
       "6PNv9xPZ3/JT8f+/82rx773JGLXF/4g1SbEHqL4aQqN/QlS7sOfip2tfQN8ujLXZKI6qBx7P1Zek\n",
       "8/Nub2G9y5rSRuYEaNU2PGaR9wAgB78JoYRYf7V5wj2A2SdGvzUUjjSu+w1sl+gmT7nm4VBMonbe\n",
       "J4/6/M/soDnUXz0hRyuxIVIMdijX8ZgwMO6qRInljyZwTwT/C0vpkD8ofnD2A4npoIkQZhLWjV3v\n",
       "Lh+x1DS1CSfScH7SGbhoo6aHxCxBLXWMWZNX2ZjfyRjU/3EjMMLEf4VishPj72ELh07KmOZJt20W\n",
       "w5/hJ10LjcHkK2TedJswc3pOC1CPISRIzI9gwZCVStId/Pi7TY48x3OIJixwn8irvaSa8Falmfp2\n",
       "kVqfTgy0y5WyC2WZC5mDAjLwCt5ZHTe+iZtWk0C99w/C8jqXSLMLOZ2EdrNig6iiCGd1FDFUUJ33\n",
       "hFkXZUHqcqzwSjJitDWllk8Wl9hKAAAAq0GfLEURLC//AHmiJ99XNvNWF/dzcALePEdIS2oRDoGb\n",
       "h3BO0e71kPtTSKwRonhIm/Aqu661PjwulhOEykL/6hAEo9xfLoIgxkA7tDplDsqQ9qRkW2i7MayF\n",
       "QpOe8574qwcQekvtEpw85/9HXvZ1g8TadDJzw0y6ME3D9qfU+/r4AUV4rHF1RJDOvulfukDsQBAI\n",
       "DeVJcbMrMFHtLaS2IevY2sFcZZlWKyc15AAAAJQBn0t0Qr8Ao6YeiX80QttABnbNQcVcWrFAp/b6\n",
       "EynsRSq8k8cxYdHOpain9Qd0nl01wrj9qhCTE2mqqDBoxpJ/LOfKpd3NUzoQmn5vjjVslwVl5b/7\n",
       "buTeGWDoEvGP9R7PIhrCDzzKTeXVGza98jCQyft3gasRpOOe5sWlQSLboT4KyUDOiG0AG7NWI/ZQ\n",
       "SDhYqz2VAAAAlAGfTWpCvwCj2ACY+HkW583CRAxE0npgBEHlTm6y3aJIlp76DEVeywOI//B5bro5\n",
       "1LRIjFjcusqUo04me/dyKfs6YGEJ0qClFSs4UJk+DA4Ra4eWprr8iB55yxvZUtS25LOe0eaGygKj\n",
       "2w9VO2iTsXMa/GLSFaLpPlV9tM/74oHWj+KvymFjpCaEarnARH8nNVT2iIEAAAFsQZtQSahBbJlM\n",
       "FEwz//6eEAMLSsttjHADNYF78AA4PGpo4Qb4fQeDpxugNcQwB31GvqC0fGS0quKYDwvPLs+qUeWH\n",
       "t7uUq3nC/f51h3QL56+9RRvrIFg1+NqCi3wQ7EtE1TnBWpgV+JhaQajaKnaFeM4XABh7hdStSkZG\n",
       "dLMb4P2jj+vXzuHGp01TGqeK0olIqCiCP2N2Wzmo8WvQxBY63OnhMKSCHMwiy82A8gbVo9CLlEg7\n",
       "4Q/8SmYU4yz6NVq6rH0pXEk3S63oEnElQlHaNmAYScyTA2JGvWs64b5iOB2/woeTbQoSMkIRVWWV\n",
       "FUxiG7yx4R4on40e1ZgaGsgsZXcLKpAGSX95JpW29LnFZQuQfgUpylGIN2gcFTv3kORUiGycz0Rr\n",
       "pk+VlV93rlXX3nwv5K16juQmgL5OuYXlAJZ7IMxptq2ubrxHVdDgpObBleedWWjBUrQ0GjPHBbmR\n",
       "gjQRBx58x3ttqi0CYQAAAJABn29qQr8AqHJM0Ud2y2Tz/kxsUYaEaFF3CByc+kkkNmaVlIHl7boS\n",
       "Oj5TprSNh8FJKbdX2cNJAAKc06sG7bGxQaGAj4drR1NyKIhPOg4wRP+RyA6/Kpz60P4zDNXUUtmE\n",
       "k/EvtME1smQqugt7rOTiUCDXDlNYfM5/KAPz+6h4ehCvYAw0dse7kPRo+Tlzms4AAAGgQZtzSeEK\n",
       "UmUwIV/+OEABsfPR53quBDmZRCjABbqkACQT5XXPUehP7kSVqA4aVxi2Vl9fj4h7cUw9gW/hRxs9\n",
       "d5fM8OYrRMW2IDdePcjOg7axvp4vU61qrAq5HoGD6QAtcXYq8Iw5m4AUFhUsB/wvcFurEUNTasny\n",
       "wLHN8aSKuOxCC8qYo0J8FKpk8HZYBevpTiLAjYBeuXYcDlPeb11xnV2Hr4pIf/wFEfM5h3icHQba\n",
       "+1zL98Y+Ji7KG6QIU86csEKVqj1cwL/ZYLcjk0jtuIQljrwLLK8iMLzx7aEPo/CJKfS795f4gOWX\n",
       "zo5xim1Yo7/1dp9gterWYDnFznuEFiui/Sxp5M3Rzk8dfqy2A4yv+U8zwCWLSOQJe7fJcGUt/W5t\n",
       "+JKXOIhRFf900qOLHO0uoiMAn89PohWtCmCe/lTWfBH26KASfm1lyJ9NCELoSSof9K9PmZL6Am7w\n",
       "g6XybRlqoninsiLHIxahbpEvI/MLNl2p9zLMpOTc/6evjYCJWI3tuWzyYUDDgPeSV4djif/MM/jS\n",
       "AhgKTp7YN5u1baYAAACmQZ+RRTRMK/8AqGbHak0w7HcdrcuVV7izwOrMl5YsPmxgBa2TBAHcfjPr\n",
       "CpRvaSRyYekBHqpJ8wpWr3Ihzg3MVSP0c0Kl6rj53PxIpz9JweV0jekesr0xZlOcd5Lldj8O5wwx\n",
       "S+/qPxkTaaE9jsB9IeUA9lDO3+7zaP/LAukB+G15a1R61MHO0J0TptShDlS++kpTqR8Tah/4oAgl\n",
       "TiVCBweof7QDlwAAAJMBn7JqQr8AR3Yc4OCXvOVGvMB0Td63/abB57rNgZiW8TABqsG/+5iRdko0\n",
       "4r0ZyY+tOEd7HCH7YrEZ24zcrcAHFd1aTmBl8TmnUhmmqd65dzXHUhMwssn83FbNU3j5dKxuO51F\n",
       "pCogJRH2aJbwzVfBJD7pYpPyIzZ81yJcTS5+GEernSmLiL2U5nZAD/PlTFu9ffAAAAQHbW9vdgAA\n",
       "AGxtdmhkAAAAAAAAAAAAAAAAAAAD6AAAAyAAAQAAAQAAAAAAAAAAAAAAAAEAAAAAAAAAAAAAAAAA\n",
       "AAABAAAAAAAAAAAAAAAAAABAAAAAAAAAAAAAAAAAAAAAAAAAAAAAAAAAAAAAAAAAAgAAAzF0cmFr\n",
       "AAAAXHRraGQAAAADAAAAAAAAAAAAAAABAAAAAAAAAyAAAAAAAAAAAAAAAAAAAAAAAAEAAAAAAAAA\n",
       "AAAAAAAAAAABAAAAAAAAAAAAAAAAAABAAAAAAkAAAADYAAAAAAAkZWR0cwAAABxlbHN0AAAAAAAA\n",
       "AAEAAAMgAAAEAAABAAAAAAKpbWRpYQAAACBtZGhkAAAAAAAAAAAAAAAAAAAyAAAAKABVxAAAAAAA\n",
       "LWhkbHIAAAAAAAAAAHZpZGUAAAAAAAAAAAAAAABWaWRlb0hhbmRsZXIAAAACVG1pbmYAAAAUdm1o\n",
       "ZAAAAAEAAAAAAAAAAAAAACRkaW5mAAAAHGRyZWYAAAAAAAAAAQAAAAx1cmwgAAAAAQAAAhRzdGJs\n",
       "AAAAtHN0c2QAAAAAAAAAAQAAAKRhdmMxAAAAAAAAAAEAAAAAAAAAAAAAAAAAAAAAAkAA2ABIAAAA\n",
       "SAAAAAAAAAABAAAAAAAAAAAAAAAAAAAAAAAAAAAAAAAAAAAAAAAAAAAAGP//AAAAMmF2Y0MBZAAV\n",
       "/+EAGWdkABWs2UCQd+WEAAADAAQAAAMAyDxYtlgBAAZo6+PLIsAAAAAcdXVpZGtoQPJfJE/Fujml\n",
       "G88DI/MAAAAAAAAAGHN0dHMAAAAAAAAAAQAAABQAAAIAAAAAFHN0c3MAAAAAAAAAAQAAAAEAAACY\n",
       "Y3R0cwAAAAAAAAARAAAAAQAABAAAAAABAAAIAAAAAAIAAAIAAAAAAQAABAAAAAABAAAGAAAAAAEA\n",
       "AAIAAAAAAQAABAAAAAABAAAIAAAAAAIAAAIAAAAAAQAACgAAAAABAAAEAAAAAAEAAAAAAAAAAQAA\n",
       "AgAAAAABAAAGAAAAAAEAAAIAAAAAAQAACAAAAAACAAACAAAAABxzdHNjAAAAAAAAAAEAAAABAAAA\n",
       "FAAAAAEAAABkc3RzegAAAAAAAAAAAAAAFAAADT8AAAMQAAAAyAAAAJ0AAADpAAABpQAAADYAAADX\n",
       "AAABuAAAAE0AAAA4AAABvwAAAK8AAACYAAAAmAAAAXAAAACUAAABpAAAAKoAAACXAAAAFHN0Y28A\n",
       "AAAAAAAAAQAAACwAAABidWR0YQAAAFptZXRhAAAAAAAAACFoZGxyAAAAAAAAAABtZGlyYXBwbAAA\n",
       "AAAAAAAAAAAAAC1pbHN0AAAAJal0b28AAAAdZGF0YQAAAAEAAAAATGF2ZjU4LjI5LjEwMA==\n",
       "\">\n",
       "  Your browser does not support the video tag.\n",
       "</video>"
      ],
      "text/plain": [
       "<IPython.core.display.HTML object>"
      ]
     },
     "execution_count": 27,
     "metadata": {},
     "output_type": "execute_result"
    }
   ],
   "source": [
    "# Create animation\n",
    "anim = camera.animate(interval = 40, repeat = False, repeat_delay = 500)\n",
    "\n",
    "# Inline display\n",
    "HTML(anim.to_html5_video())"
   ]
  },
  {
   "cell_type": "markdown",
   "metadata": {},
   "source": [
    "# Appendix\n",
    "\n",
    "### Physical background\n",
    "\n",
    "In this case study, we consider a projectile motion problem and we are interested in calculating the shooting range $R$ of a cannon. For demonstration purpose, we choose a rather simple physical model to describe the trajectary of the cannonball, where the shooting range $R$ is calculated by:\n",
    "\n",
    "\\begin{equation}\n",
    "R = \\frac{v_0^2 sin 2 \\theta}{g},\n",
    "\\end{equation}\n",
    "\n",
    "where $v_0$ is the initial velocity of the cannonball, $\\theta$ is the shooting angle, and $g=9.8m/s^2$ is the gravity acceleration. An illustration of the current problem is shown below.\n",
    "\n",
    "<img src=\"./Image/Cannon_Illustration.png\" width=500 height=300 />\n",
    "\n",
    "### Uncertainty analysis\n",
    "\n",
    "Suppose that we are not sure about the values of $v_0$ and $\\theta$, as they can be influenced by randomness in practice. To describe their uncertainty, we assign a probability distribution for $v_0$ and $\\theta$, respectively. Specifically, we assume:\n",
    "\n",
    "- $v_0$ follows a normal distribution, i.e., $v_0 \\sim \\mathcal{N}(150,5^2)$. This distribution indicates that the mean value of $v_0$ is $150m/s$ and the standard deviation value of $v_0$ is $5m/s$;\n",
    "\n",
    "- $\\theta$ follows a uniform distribution, i.e., $\\theta \\sim \\mathcal{U}(40,50)$. This distribution indicates that $\\theta$ can take any value between $40^{o}$ and $50^{o}$ with equal probability.\n",
    "\n",
    "Due to the uncertainty embedded in the model parameters ($v_0$ and $\\theta$), the cannon trajectory and its shooting range $R$ will also be uncertain. To quantify their uncertainties, we can perform [Monte Carlo simulations]((https://towardsdatascience.com/how-to-quantify-the-prediction-error-made-by-my-model-db4705910173))."
   ]
  },
  {
   "cell_type": "code",
   "execution_count": 2,
   "metadata": {},
   "outputs": [],
   "source": [
    "# Define trajectory calculation function\n",
    "def traj_cal(v0, theta, g, time_step=10):\n",
    "    '''Calculate the cannonball trajectory\n",
    "    Inputs:\n",
    "        v0 --> initial velocity of the cannonball\n",
    "        theta --> shooting angle (in degree)\n",
    "        g --> gravity acceleration\n",
    "        time_step --> time discretization\n",
    "    Outputs:\n",
    "        coor_X --> X coordinates of the cannonball\n",
    "        coor_Y --> Y coordinates of the cannonball'''\n",
    "    \n",
    "    # Time for the cannonball to reach maximum height\n",
    "    t_c = v0*np.sin(theta/180*np.pi)/g\n",
    "    \n",
    "    # Time discretization\n",
    "    t = np.linspace(start=0, stop=2*t_c, num=time_step)\n",
    "    coor_X, coor_Y = [], []\n",
    "    \n",
    "    # Calculate trajectory\n",
    "    for time in t:\n",
    "        coor_X.append(v0*np.cos(theta/180*np.pi)*time)\n",
    "        if time <= t_c:\n",
    "            coor_Y.append(v0*np.sin(theta/180*np.pi)*time-0.5*g*time**2)\n",
    "        else:\n",
    "            coor_Y.append(v0*np.sin(theta/180*np.pi)*t_c-0.5*g*t_c**2-0.5*g*(time-t_c)**2)\n",
    "    \n",
    "    return coor_X, coor_Y"
   ]
  },
  {
   "cell_type": "code",
   "execution_count": 7,
   "metadata": {},
   "outputs": [],
   "source": [
    "# Monte Carlo simulations\n",
    "MC_sample_num = 1000\n",
    "time_step = 20      # Time discretization\n",
    "traj_X, traj_Y = [], []\n",
    "\n",
    "# Parameters\n",
    "v0 = np.random.normal(loc=150, scale=5, size=MC_sample_num)\n",
    "theta = 10*np.random.rand(MC_sample_num)+40\n",
    "g = 9.8\n",
    "\n",
    "for i in range(MC_sample_num):\n",
    "    coor_X, coor_Y= traj_cal(v0[i], theta[i], g, time_step)\n",
    "    \n",
    "    traj_X.append(coor_X)\n",
    "    traj_Y.append(coor_Y)\n",
    "\n",
    "# Save calculation results\n",
    "traj_X = np.array(traj_X)\n",
    "traj_Y = np.array(traj_Y)\n",
    "np.savetxt(\"./Dataset/traj_X.csv\", traj_X, delimiter=\",\")\n",
    "np.savetxt(\"./Dataset/traj_Y.csv\", traj_Y, delimiter=\",\")"
   ]
  },
  {
   "cell_type": "code",
   "execution_count": 8,
   "metadata": {},
   "outputs": [
    {
     "data": {
      "image/png": "[encoded data removed]",
      "text/plain": [
       "<Figure size 576x288 with 3 Axes>"
      ]
     },
     "metadata": {
      "needs_background": "light"
     },
     "output_type": "display_data"
    }
   ],
   "source": [
    "# Display trajectories in animation\n",
    "fig = plt.figure(figsize=(8,4))\n",
    "ax_show = plt.subplot2grid((6, 1), (0, 0), rowspan=5, colspan=1)\n",
    "ax_hide = plt.subplot2grid((6, 1), (5, 0), rowspan=1, colspan=1)\n",
    "ax_rep = ax_show.twinx()\n",
    "\n",
    "ax_show.set(xlim=(-100, 3100), ylim=(-10, 810))\n",
    "ax_show.set_xlabel('Range/m', fontsize=15)\n",
    "ax_show.set_ylabel('Height/m', fontsize=15)\n",
    "\n",
    "# A work-around to prevent cropping the labels when saving gif\n",
    "ax_hide.axis('off')\n",
    "\n",
    "ax_rep.set_ylim(0, 25.2)\n",
    "ax_rep.set_yticks(list(range(0,25,5)))\n",
    "ax_rep.set_ylabel('Count', fontsize=15)\n",
    "\n",
    "# Initiate camera\n",
    "camera = Camera(fig)\n",
    "\n",
    "for i in range(traj_num):\n",
    "    for j in range(time_step):\n",
    "        \n",
    "        # Add trajectory\n",
    "        x = traj_X[i][0:j+1]\n",
    "        y = traj_Y[i][0:j+1]\n",
    "        ax_show.plot(x, y, color='b', lw=2, linestyle='--')\n",
    "        ax_show.plot(x[-1], y[-1], marker='o', markersize=12, markeredgecolor='r', markerfacecolor='r')\n",
    "        \n",
    "        # Add histogram\n",
    "        if i==0:\n",
    "            if j==time_step-1:\n",
    "                ax_rep.hist(Range[i], bins=bins, edgecolor=(1.0, 0.5, 0.25),fc=(1.0, 0.5, 0.25, 0.5))\n",
    "        else:\n",
    "            if j==time_step-1:\n",
    "                ax_rep.hist(Range[0:i+1], bins=bins, edgecolor=(1.0, 0.5, 0.25),fc=(1.0, 0.5, 0.25, 0.5))\n",
    "            else: \n",
    "                ax_rep.hist(Range[0:i], bins=bins, edgecolor=(1.0, 0.5, 0.25),fc=(1.0, 0.5, 0.25, 0.5))\n",
    "        # Capture frame\n",
    "        camera.snap()\n",
    "\n",
    "anim = camera.animate(interval = 40, repeat = False, repeat_delay = 500)"
   ]
  }
 ],
 "metadata": {
  "kernelspec": {
   "display_name": "Python 3",
   "language": "python",
   "name": "python3"
  },
  "language_info": {
   "codemirror_mode": {
    "name": "ipython",
    "version": 3
   },
   "file_extension": ".py",
   "mimetype": "text/x-python",
   "name": "python",
   "nbconvert_exporter": "python",
   "pygments_lexer": "ipython3",
   "version": "3.8.5"
  }
 },
 "nbformat": 4,
 "nbformat_minor": 4
}
